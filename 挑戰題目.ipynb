{
 "cells": [
  {
   "cell_type": "code",
   "execution_count": 35,
   "id": "a1430627-ee85-44b3-a1e9-5c61318220e4",
   "metadata": {},
   "outputs": [
    {
     "data": {
      "text/plain": [
       "[1, 3]"
      ]
     },
     "execution_count": 35,
     "metadata": {},
     "output_type": "execute_result"
    }
   ],
   "source": [
    "# 定義函數: 篩選出所有整數\n",
    "# 篩選出列表中的整數\n",
    "# 篩選出字典值中的整數\n",
    "list_1 = ['a', 1, 'b', 3, 2]\n",
    "dict_1 = {'a': 1, 'b': None, 'c': 3}\n",
    "\n",
    "def screen_number(s):\n",
    "    screen_number_output = []\n",
    "    for i in s:\n",
    "        if type(i) == int:\n",
    "            screen_number_output.append(i)\n",
    "    return screen_number_output\n",
    "\n",
    "screen_number(list_1)\n",
    "\n",
    "def screen_number_dict(d):\n",
    "    screen_number_dict_output = []\n",
    "    for key, value in d.items():\n",
    "        if type(value) == int:\n",
    "            screen_number_dict_output.append(value)\n",
    "    return screen_number_dict_output\n",
    "\n",
    "screen_number_dict(dict_1)\n"
   ]
  },
  {
   "cell_type": "code",
   "execution_count": null,
   "id": "583edaac-5861-4052-ab0c-61c8561b0490",
   "metadata": {},
   "outputs": [],
   "source": []
  }
 ],
 "metadata": {
  "kernelspec": {
   "display_name": "Python 3 (ipykernel)",
   "language": "python",
   "name": "python3"
  },
  "language_info": {
   "codemirror_mode": {
    "name": "ipython",
    "version": 3
   },
   "file_extension": ".py",
   "mimetype": "text/x-python",
   "name": "python",
   "nbconvert_exporter": "python",
   "pygments_lexer": "ipython3",
   "version": "3.7.4"
  }
 },
 "nbformat": 4,
 "nbformat_minor": 5
}
