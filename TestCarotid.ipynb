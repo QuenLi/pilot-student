{
 "cells": [
  {
   "cell_type": "code",
   "execution_count": 26,
   "id": "c1ccd40f-d94e-4f5d-a198-054457678141",
   "metadata": {},
   "outputs": [],
   "source": [
    "class Carotid_echo:\n",
    "    kind = 'B_mode'\n",
    "    \n",
    "    def __init__(self, RI):\n",
    "        self.RI = RI\n",
    "    \n",
    "    def determine_RI(self):\n",
    "        if RI > 0.75:\n",
    "            return 'Increased in RI'\n",
    "        else:\n",
    "            return 'Normal in RI'"
   ]
  },
  {
   "cell_type": "code",
   "execution_count": 27,
   "id": "ca9b0414-09c0-48f8-ac30-028083605493",
   "metadata": {},
   "outputs": [],
   "source": [
    "class ICA(Carotid_echo):\n",
    "    \n",
    "    def determine_RI(self):\n",
    "        if RI > 0.75:\n",
    "            return 'Increased RI in ICA'\n",
    "        else:\n",
    "            return 'Normal Ri in ICA'\n",
    "    ICA_RI = determine_RI"
   ]
  },
  {
   "cell_type": "code",
   "execution_count": 28,
   "id": "888c1ca0-8281-4edf-b886-99db13b7fd26",
   "metadata": {},
   "outputs": [],
   "source": [
    "a = ICA(0.76)"
   ]
  },
  {
   "cell_type": "code",
   "execution_count": 29,
   "id": "eaf3b212-f22b-4d36-ba18-d7434698702d",
   "metadata": {},
   "outputs": [
    {
     "ename": "NameError",
     "evalue": "name 'RI' is not defined",
     "output_type": "error",
     "traceback": [
      "\u001b[1;31m---------------------------------------------------------------------------\u001b[0m",
      "\u001b[1;31mNameError\u001b[0m                                 Traceback (most recent call last)",
      "\u001b[1;32m~\\AppData\\Local\\Temp\\ipykernel_13064\\955735064.py\u001b[0m in \u001b[0;36m<module>\u001b[1;34m\u001b[0m\n\u001b[0;32m      1\u001b[0m \u001b[1;32mfor\u001b[0m \u001b[0mri\u001b[0m \u001b[1;32min\u001b[0m \u001b[1;33m[\u001b[0m\u001b[0ma\u001b[0m\u001b[1;33m]\u001b[0m\u001b[1;33m:\u001b[0m\u001b[1;33m\u001b[0m\u001b[1;33m\u001b[0m\u001b[0m\n\u001b[1;32m----> 2\u001b[1;33m     \u001b[0mprint\u001b[0m\u001b[1;33m(\u001b[0m\u001b[0mri\u001b[0m\u001b[1;33m.\u001b[0m\u001b[0mRI\u001b[0m\u001b[1;33m,\u001b[0m \u001b[1;34m':'\u001b[0m\u001b[1;33m,\u001b[0m \u001b[0mri\u001b[0m\u001b[1;33m.\u001b[0m\u001b[0mdetermine_RI\u001b[0m\u001b[1;33m(\u001b[0m\u001b[1;33m)\u001b[0m\u001b[1;33m)\u001b[0m\u001b[1;33m\u001b[0m\u001b[1;33m\u001b[0m\u001b[0m\n\u001b[0m",
      "\u001b[1;32m~\\AppData\\Local\\Temp\\ipykernel_13064\\3210616864.py\u001b[0m in \u001b[0;36mdetermine_RI\u001b[1;34m(self)\u001b[0m\n\u001b[0;32m      2\u001b[0m \u001b[1;33m\u001b[0m\u001b[0m\n\u001b[0;32m      3\u001b[0m     \u001b[1;32mdef\u001b[0m \u001b[0mdetermine_RI\u001b[0m\u001b[1;33m(\u001b[0m\u001b[0mself\u001b[0m\u001b[1;33m)\u001b[0m\u001b[1;33m:\u001b[0m\u001b[1;33m\u001b[0m\u001b[1;33m\u001b[0m\u001b[0m\n\u001b[1;32m----> 4\u001b[1;33m         \u001b[1;32mif\u001b[0m \u001b[0mRI\u001b[0m \u001b[1;33m>\u001b[0m \u001b[1;36m0.75\u001b[0m\u001b[1;33m:\u001b[0m\u001b[1;33m\u001b[0m\u001b[1;33m\u001b[0m\u001b[0m\n\u001b[0m\u001b[0;32m      5\u001b[0m             \u001b[1;32mreturn\u001b[0m \u001b[1;34m'Increased RI in ICA'\u001b[0m\u001b[1;33m\u001b[0m\u001b[1;33m\u001b[0m\u001b[0m\n\u001b[0;32m      6\u001b[0m         \u001b[1;32melse\u001b[0m\u001b[1;33m:\u001b[0m\u001b[1;33m\u001b[0m\u001b[1;33m\u001b[0m\u001b[0m\n",
      "\u001b[1;31mNameError\u001b[0m: name 'RI' is not defined"
     ]
    }
   ],
   "source": [
    "for ri in [a]:\n",
    "    print(ri.RI, ':', ri.determine_RI())"
   ]
  },
  {
   "cell_type": "code",
   "execution_count": null,
   "id": "be5aa989-7146-4700-a234-47d4ccacd2ca",
   "metadata": {},
   "outputs": [],
   "source": []
  }
 ],
 "metadata": {
  "kernelspec": {
   "display_name": "Python 3 (ipykernel)",
   "language": "python",
   "name": "python3"
  },
  "language_info": {
   "codemirror_mode": {
    "name": "ipython",
    "version": 3
   },
   "file_extension": ".py",
   "mimetype": "text/x-python",
   "name": "python",
   "nbconvert_exporter": "python",
   "pygments_lexer": "ipython3",
   "version": "3.7.4"
  }
 },
 "nbformat": 4,
 "nbformat_minor": 5
}
