{
 "cells": [
  {
   "cell_type": "markdown",
   "id": "382db8bc-9c38-498d-b0c6-6f3c96cee743",
   "metadata": {},
   "source": [
    "PDF 轉成 DOCX 的測試用文檔"
   ]
  },
  {
   "cell_type": "code",
   "execution_count": 2,
   "id": "f5cdf185-928d-40fb-b01d-f58ae557de59",
   "metadata": {},
   "outputs": [
    {
     "name": "stderr",
     "output_type": "stream",
     "text": [
      "[INFO] Start to convert C:\\Users\\tukwa\\Downloads\\Diabetes mellitus, a microRNA-related disease (2011).pdf\n",
      "[INFO] \u001b[1;36m[1/4] Opening document...\u001b[0m\n",
      "[INFO] \u001b[1;36m[2/4] Analyzing document...\u001b[0m\n",
      "[INFO] \u001b[1;36m[3/4] Parsing pages...\u001b[0m\n",
      "[INFO] (1/12) Page 1\n",
      "[INFO] (2/12) Page 2\n",
      "[INFO] (3/12) Page 3\n",
      "[INFO] (4/12) Page 4\n",
      "[INFO] (5/12) Page 5\n",
      "[INFO] (6/12) Page 6\n",
      "[INFO] (7/12) Page 7\n",
      "[INFO] (8/12) Page 8\n",
      "[INFO] (9/12) Page 9\n",
      "[INFO] (10/12) Page 10\n",
      "[INFO] (11/12) Page 11\n",
      "[INFO] (12/12) Page 12\n",
      "[INFO] \u001b[1;36m[4/4] Creating pages...\u001b[0m\n",
      "[INFO] (1/12) Page 1\n",
      "[INFO] (2/12) Page 2\n",
      "[INFO] (3/12) Page 3\n",
      "[INFO] (4/12) Page 4\n",
      "[INFO] (5/12) Page 5\n",
      "[INFO] (6/12) Page 6\n",
      "[INFO] (7/12) Page 7\n",
      "[INFO] (8/12) Page 8\n",
      "[INFO] (9/12) Page 9\n",
      "[INFO] (10/12) Page 10\n",
      "[INFO] (11/12) Page 11\n",
      "[INFO] (12/12) Page 12\n",
      "[INFO] Terminated in 18.42s.\n"
     ]
    }
   ],
   "source": [
    "#from pdf2docx import Converter\n",
    "#pdf_file = 'C:\\\\Users\\\\tukwa\\\\Downloads\\\\Diabetes mellitus, a microRNA-related disease (2011).pdf'\n",
    "#docx_file =  'C:\\\\Users\\\\tukwa\\\\Downloads\\\\Diabetes test.docx'\n",
    "#cv = Converter(pdf_file)\n",
    "#cv.convert(docx_file, start=0, end=None)\n",
    "#cv.close()\n",
    "\n",
    "# 20220924 測試完畢後確實生成了一個可以打開且原則上沒有太多亂碼的docx，排版上與pdf相似，不過還是有些小問題。至少測試結果ok"
   ]
  },
  {
   "cell_type": "code",
   "execution_count": null,
   "id": "578eae68-2b16-445e-91fe-aa096061b60b",
   "metadata": {},
   "outputs": [],
   "source": []
  }
 ],
 "metadata": {
  "kernelspec": {
   "display_name": "Python 3 (ipykernel)",
   "language": "python",
   "name": "python3"
  },
  "language_info": {
   "codemirror_mode": {
    "name": "ipython",
    "version": 3
   },
   "file_extension": ".py",
   "mimetype": "text/x-python",
   "name": "python",
   "nbconvert_exporter": "python",
   "pygments_lexer": "ipython3",
   "version": "3.7.4"
  }
 },
 "nbformat": 4,
 "nbformat_minor": 5
}
